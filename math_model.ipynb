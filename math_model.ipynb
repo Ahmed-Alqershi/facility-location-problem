{
 "cells": [
  {
   "cell_type": "code",
   "execution_count": 209,
   "metadata": {},
   "outputs": [],
   "source": [
    "from gamspy import Container\n",
    "from gamspy import Model\n",
    "from gamspy import Set\n",
    "from gamspy import Parameter\n",
    "from gamspy import Variable\n",
    "from gamspy import Equation\n",
    "\n",
    "import pandas as pd\n",
    "import numpy as np\n",
    "\n",
    "import os"
   ]
  },
  {
   "attachments": {},
   "cell_type": "markdown",
   "metadata": {},
   "source": [
    "## DATA DEFINITION"
   ]
  },
  {
   "cell_type": "code",
   "execution_count": 210,
   "metadata": {},
   "outputs": [],
   "source": [
    "data_path = \"data\"\n",
    "\n",
    "# Set i\n",
    "products_info = pd.read_excel(os.path.join(data_path, \"Products.xlsx\"), sheet_name=\"Sayfa1\", index_col=None)\n",
    "products = [i.replace(\" \", \"\") for i in products_info.Products.tolist()]\n",
    "set_i = products\n",
    "\n",
    "# Set j\n",
    "distance = pd.read_excel(os.path.join(data_path, \"distance-matrix.xlsx\"), sheet_name=\"Sayfa1\", index_col=0).fillna(0)\n",
    "cities = [i.replace(\"İ\", \"i\").lower() for i in distance.columns]\n",
    "distance.columns = a\n",
    "distance.index = a\n",
    "set_j = cities\n",
    "\n",
    "# Set k\n",
    "ports = pd.read_excel(os.path.join(data_path, \"Limanlar.xlsx\"), sheet_name=\"Sayfa1\", index_col=None)\n",
    "ports = [i.replace(\"İ\", \"i\").lower() for i in ports.PortName.to_list()]\n",
    "set_k = ports\n"
   ]
  },
  {
   "cell_type": "code",
   "execution_count": 211,
   "metadata": {},
   "outputs": [],
   "source": [
    "# Parametes\n",
    "\n",
    "# w\n",
    "forecasts = pd.read_csv(os.path.join(data_path, \"export_forecasts.csv\"), index_col=0)\n",
    "param_w = np.array(forecasts[\"2024\"])\n",
    "\n",
    "# d\n",
    "param_d = distance[ports].unstack()\n",
    "\n",
    "# l\n",
    "### TODO: l is not defined\n",
    "\n",
    "# q\n",
    "quality = pd.read_excel(os.path.join(data_path, \"Quality_ProdCap.xlsx\"), sheet_name=\"Quality\", index_col=0).T\n",
    "quality.columns = [i.replace(\"İ\", \"i\").lower() for i in quality.columns]\n",
    "param_q = quality[cities].unstack()\n",
    "\n",
    "# v\n",
    "param_v = np.array([int(i.split()[0]) for i in products_info[\"Quantity (1 Container)\"]])\n",
    "\n",
    "# cap\n",
    "product_capacity = pd.read_excel(os.path.join(data_path, \"Quality_ProdCap.xlsx\"), sheet_name=\"ProdCap\", index_col=0).T\n",
    "product_capacity.columns = [i.replace(\"İ\", \"i\").lower() for i in product_capacity.columns]\n",
    "param_cap = product_capacity[cities].unstack()\n"
   ]
  },
  {
   "attachments": {},
   "cell_type": "markdown",
   "metadata": {},
   "source": [
    "## BUILD MODELS"
   ]
  },
  {
   "cell_type": "code",
   "execution_count": 212,
   "metadata": {},
   "outputs": [],
   "source": [
    "# Create a container\n",
    "m = Container()\n"
   ]
  },
  {
   "attachments": {},
   "cell_type": "markdown",
   "metadata": {},
   "source": [
    "### SETS"
   ]
  },
  {
   "cell_type": "code",
   "execution_count": 213,
   "metadata": {},
   "outputs": [],
   "source": [
    "# Create the model sets\n",
    "i = Set(m, name='i', description='Products considered', records=set_i)\n",
    "j = Set(m, name='j', description='Potential warehouse locations', records=set_j)\n",
    "k = Set(m, name='k', domain=j, description='Exporting Hubs (Ports)', records=set_k)"
   ]
  },
  {
   "cell_type": "code",
   "execution_count": 219,
   "metadata": {},
   "outputs": [
    {
     "data": {
      "text/plain": [
       "[<DomainViolation (0x2509404ba10)>]"
      ]
     },
     "execution_count": 219,
     "metadata": {},
     "output_type": "execute_result"
    }
   ],
   "source": [
    "d.getDomainViolations()"
   ]
  },
  {
   "attachments": {},
   "cell_type": "markdown",
   "metadata": {},
   "source": [
    "### PARAMETERS"
   ]
  },
  {
   "cell_type": "code",
   "execution_count": 215,
   "metadata": {},
   "outputs": [],
   "source": [
    "# Create the model parameters\n",
    "w = Parameter(m, name='w', domain=i, description='Weights for product i', records=param_w)\n",
    "d = Parameter(m, name='d', domain=[j, k], description='Distance from city j to exporting hub k', records=param_d)\n",
    "# l = Parameter(m, name='l', domain=j, description='Living expenses at city j')   # ToDO: Get the living expenses from the data --> Ibrahim\n",
    "q = Parameter(m, name='q', domain=[i, j], description='Quality of product i in city j', records=param_q)\n",
    "v = Parameter(m, name='v', domain=i, description='Volume of product i', records=param_v)\n",
    "# av = Parameter(m, name='av', domain=j, description='Available labor at city j') # ToDO: Get the available labor from the data --> Ibrahim\n",
    "cap = Parameter(m, name='cap', domain=[i, j], description='Production Capacity of product i in city j', records=param_cap)\n"
   ]
  },
  {
   "attachments": {},
   "cell_type": "markdown",
   "metadata": {},
   "source": [
    "### VARIABLES"
   ]
  },
  {
   "cell_type": "code",
   "execution_count": 216,
   "metadata": {},
   "outputs": [],
   "source": [
    "# Create the model variables\n",
    "x = Variable(m, name='x', domain=j, type=\"binary\", description='Whether to build a warehouse in city j')\n",
    "y = Variable(m, name='y', domain=[i, j], type=\"positive\", description='Amount of product i stocked at city j')\n"
   ]
  },
  {
   "cell_type": "code",
   "execution_count": 217,
   "metadata": {},
   "outputs": [
    {
     "data": {
      "text/html": [
       "<div>\n",
       "<style scoped>\n",
       "    .dataframe tbody tr th:only-of-type {\n",
       "        vertical-align: middle;\n",
       "    }\n",
       "\n",
       "    .dataframe tbody tr th {\n",
       "        vertical-align: top;\n",
       "    }\n",
       "\n",
       "    .dataframe thead th {\n",
       "        text-align: right;\n",
       "    }\n",
       "</style>\n",
       "<table border=\"1\" class=\"dataframe\">\n",
       "  <thead>\n",
       "    <tr style=\"text-align: right;\">\n",
       "      <th></th>\n",
       "      <th>j</th>\n",
       "      <th>k</th>\n",
       "      <th>value</th>\n",
       "    </tr>\n",
       "  </thead>\n",
       "  <tbody>\n",
       "    <tr>\n",
       "      <th>0</th>\n",
       "      <td>antalya</td>\n",
       "      <td>adana</td>\n",
       "      <td>547.0</td>\n",
       "    </tr>\n",
       "    <tr>\n",
       "      <th>1</th>\n",
       "      <td>antalya</td>\n",
       "      <td>ankara</td>\n",
       "      <td>542.0</td>\n",
       "    </tr>\n",
       "    <tr>\n",
       "      <th>2</th>\n",
       "      <td>antalya</td>\n",
       "      <td>antalya</td>\n",
       "      <td>0.0</td>\n",
       "    </tr>\n",
       "    <tr>\n",
       "      <th>3</th>\n",
       "      <td>antalya</td>\n",
       "      <td>aydin</td>\n",
       "      <td>345.0</td>\n",
       "    </tr>\n",
       "    <tr>\n",
       "      <th>4</th>\n",
       "      <td>antalya</td>\n",
       "      <td>balikesir</td>\n",
       "      <td>505.0</td>\n",
       "    </tr>\n",
       "    <tr>\n",
       "      <th>...</th>\n",
       "      <td>...</td>\n",
       "      <td>...</td>\n",
       "      <td>...</td>\n",
       "    </tr>\n",
       "    <tr>\n",
       "      <th>265</th>\n",
       "      <td>trabzon</td>\n",
       "      <td>samsun</td>\n",
       "      <td>321.0</td>\n",
       "    </tr>\n",
       "    <tr>\n",
       "      <th>266</th>\n",
       "      <td>trabzon</td>\n",
       "      <td>tekirdağ</td>\n",
       "      <td>1187.0</td>\n",
       "    </tr>\n",
       "    <tr>\n",
       "      <th>267</th>\n",
       "      <td>trabzon</td>\n",
       "      <td>trabzon</td>\n",
       "      <td>0.0</td>\n",
       "    </tr>\n",
       "    <tr>\n",
       "      <th>268</th>\n",
       "      <td>trabzon</td>\n",
       "      <td>şanliurfa</td>\n",
       "      <td>804.0</td>\n",
       "    </tr>\n",
       "    <tr>\n",
       "      <th>269</th>\n",
       "      <td>trabzon</td>\n",
       "      <td>van</td>\n",
       "      <td>709.0</td>\n",
       "    </tr>\n",
       "  </tbody>\n",
       "</table>\n",
       "<p>270 rows × 3 columns</p>\n",
       "</div>"
      ],
      "text/plain": [
       "           j          k   value\n",
       "0    antalya      adana   547.0\n",
       "1    antalya     ankara   542.0\n",
       "2    antalya    antalya     0.0\n",
       "3    antalya      aydin   345.0\n",
       "4    antalya  balikesir   505.0\n",
       "..       ...        ...     ...\n",
       "265  trabzon     samsun   321.0\n",
       "266  trabzon   tekirdağ  1187.0\n",
       "267  trabzon    trabzon     0.0\n",
       "268  trabzon  şanliurfa   804.0\n",
       "269  trabzon        van   709.0\n",
       "\n",
       "[270 rows x 3 columns]"
      ]
     },
     "execution_count": 217,
     "metadata": {},
     "output_type": "execute_result"
    }
   ],
   "source": [
    "d.records"
   ]
  }
 ],
 "metadata": {
  "kernelspec": {
   "display_name": "uni2",
   "language": "python",
   "name": "python3"
  },
  "language_info": {
   "codemirror_mode": {
    "name": "ipython",
    "version": 3
   },
   "file_extension": ".py",
   "mimetype": "text/x-python",
   "name": "python",
   "nbconvert_exporter": "python",
   "pygments_lexer": "ipython3",
   "version": "3.11.5"
  },
  "orig_nbformat": 4,
  "vscode": {
   "interpreter": {
    "hash": "896abd35c1ec3da0fbf192e8bc4f761e28b2321e39758341c6892986d6cb4321"
   }
  }
 },
 "nbformat": 4,
 "nbformat_minor": 2
}
