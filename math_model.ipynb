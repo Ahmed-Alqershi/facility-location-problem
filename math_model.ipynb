{
 "cells": [
  {
   "cell_type": "code",
   "execution_count": 432,
   "metadata": {},
   "outputs": [],
   "source": [
    "from gamspy import Container\n",
    "from gamspy import Model\n",
    "from gamspy import Set\n",
    "from gamspy import Parameter\n",
    "from gamspy import Variable\n",
    "from gamspy import Equation\n",
    "from gamspy import Sum\n",
    "\n",
    "import pandas as pd\n",
    "import numpy as np\n",
    "\n",
    "import os"
   ]
  },
  {
   "attachments": {},
   "cell_type": "markdown",
   "metadata": {},
   "source": [
    "## DATA DEFINITION"
   ]
  },
  {
   "cell_type": "code",
   "execution_count": 433,
   "metadata": {},
   "outputs": [],
   "source": [
    "data_path = \"data\"\n",
    "\n",
    "# Set i\n",
    "products_info = pd.read_excel(os.path.join(data_path, \"Products.xlsx\"), sheet_name=\"Sayfa1\", index_col=None)\n",
    "products = [i.replace(\" \", \"\") for i in products_info.Products.tolist()]\n",
    "set_i = products\n",
    "\n",
    "# Set j\n",
    "distance = pd.read_excel(os.path.join(data_path, \"distance-matrix.xlsx\"), sheet_name=\"Sayfa1\", index_col=0).fillna(0)\n",
    "cities = [i.replace(\"İ\", \"i\").lower() for i in distance.columns]\n",
    "distance.columns = cities\n",
    "distance.index = cities\n",
    "set_j = cities\n",
    "\n",
    "# Set k\n",
    "ports = pd.read_excel(os.path.join(data_path, \"Limanlar.xlsx\"), sheet_name=\"Sayfa1\", index_col=None)\n",
    "ports = [i.replace(\"İ\", \"i\").lower() for i in ports.PortName.to_list()]\n",
    "set_k = ports\n"
   ]
  },
  {
   "cell_type": "code",
   "execution_count": 434,
   "metadata": {},
   "outputs": [],
   "source": [
    "# Parametes\n",
    "\n",
    "# w\n",
    "forecasts = pd.read_csv(os.path.join(data_path, \"export_forecasts.csv\"), index_col=0)\n",
    "param_w = np.array(forecasts[\"2024\"])\n",
    "\n",
    "# d\n",
    "param_d = distance[ports].T.unstack()\n",
    "\n",
    "# q\n",
    "quality = pd.read_excel(os.path.join(data_path, \"Quality_ProdCap.xlsx\"), sheet_name=\"Quality\", index_col=0).fillna(0).T\n",
    "quality.columns = [i.replace(\"İ\", \"i\").lower() for i in quality.columns]\n",
    "quality.index = [i.replace(\" \", \"\").lower() for i in quality.index]\n",
    "param_q = quality[cities].T.unstack()\n",
    "\n",
    "# v\n",
    "param_v = np.array([int(i.split()[0]) for i in products_info[\"Quantity (1 Container)\"]])\n",
    "\n",
    "# cap\n",
    "product_capacity = pd.read_excel(os.path.join(data_path, \"Quality_ProdCap.xlsx\"), sheet_name=\"ProdCap\", index_col=0).fillna(0).T\n",
    "product_capacity.columns = [i.replace(\"İ\", \"i\").lower() for i in product_capacity.columns]\n",
    "product_capacity.index = [i.replace(\" \", \"\").lower() for i in product_capacity.index]\n",
    "param_cap = product_capacity[cities].T.unstack()\n",
    "\n",
    "# wn\n",
    "param_wn = 1       # Userinput\n",
    "\n",
    "# max_cap\n",
    "param_mc = 1000      # Userinput\n",
    "\n",
    "# warehouse_cost\n",
    "warehouse_house = pd.read_excel(os.path.join(data_path, \"warehouse_cost.xlsx\"), sheet_name=\"Sheet1\", index_col=None)\n",
    "param_wc = np.array(warehouse_house[\"cost\"])*30\n",
    "\n",
    "# revenue\n",
    "param_revenue = np.array(products_info[\"Revenue (1 Container - $)\"])\n",
    "\n",
    "# budget\n",
    "param_mb = 1000000     # Userinput\n",
    "\n",
    "# transportation_cost\n",
    "param_trans_cost = distance[ports].T.unstack()*2\n"
   ]
  },
  {
   "attachments": {},
   "cell_type": "markdown",
   "metadata": {},
   "source": [
    "## BUILD MODELS"
   ]
  },
  {
   "cell_type": "code",
   "execution_count": 435,
   "metadata": {},
   "outputs": [],
   "source": [
    "# Create a container\n",
    "m = Container()\n"
   ]
  },
  {
   "attachments": {},
   "cell_type": "markdown",
   "metadata": {},
   "source": [
    "### SETS"
   ]
  },
  {
   "cell_type": "code",
   "execution_count": 436,
   "metadata": {},
   "outputs": [],
   "source": [
    "# Create the model sets\n",
    "i = Set(m, name='i', description='Products considered', records=set_i)\n",
    "j = Set(m, name='j', description='Potential warehouse locations', records=set_j)\n",
    "k = Set(m, name='k', domain=j, description='Exporting Hubs (Ports)', records=set_k)\n"
   ]
  },
  {
   "attachments": {},
   "cell_type": "markdown",
   "metadata": {},
   "source": [
    "### PARAMETERS"
   ]
  },
  {
   "cell_type": "code",
   "execution_count": 437,
   "metadata": {},
   "outputs": [],
   "source": [
    "# Create the model parameters\n",
    "\n",
    "w = Parameter(m, name='w', domain=i, description='Weights for product i', records=param_w)\n",
    "\n",
    "d = Parameter(m, name='d', domain=[j, k], description='Distance from city j to exporting hub k', records=param_d)\n",
    "\n",
    "q = Parameter(m, name='q', domain=[i, j], description='Quality of product i in city j', records=param_q)\n",
    "\n",
    "v = Parameter(m, name='v', domain=i, description='Volume of product i', records=param_v)\n",
    "\n",
    "p_cap = Parameter(m, name='p_cap', domain=[i, j], description='Production Capacity of product i in city j', records=param_cap)\n",
    "\n",
    "wn = Parameter(m, name='wn', description='Maximum number of warehouses', records=param_wn)\n",
    "\n",
    "m_cap = Parameter(m, name='m_cap', description='Maximum capacity of warehouses', records=param_mc)\n",
    "\n",
    "wc = Parameter(m, name='wc', domain=j, description='Warehouse cost per container per city', records=param_wc)\n",
    "\n",
    "revenue = Parameter(m, name='revenue', domain=i, description='Revenue per container per product', records=param_revenue)\n",
    "\n",
    "m_budget = Parameter(m, name='m_budget', description='Maximum budget for warehouses', records=param_mb)\n",
    "\n",
    "transport_cost = Parameter(m, name=\"transport_cost\", domain=[j, k], description='Transportation cost from city j to exporting hub k', records=param_trans_cost)"
   ]
  },
  {
   "attachments": {},
   "cell_type": "markdown",
   "metadata": {},
   "source": [
    "### VARIABLES"
   ]
  },
  {
   "cell_type": "code",
   "execution_count": 438,
   "metadata": {},
   "outputs": [],
   "source": [
    "# Create the model variables\n",
    "x = Variable(m, name='x', domain=j, type=\"binary\", description='Whether to build a warehouse in city j')\n",
    "y = Variable(m, name='y', domain=[i, j], type=\"positive\", description='Amount of product i stocked at city j')\n",
    "\n",
    "o1 = Variable(m, name='o1', type=\"free\", description='Variable to take first objective function value')\n",
    "o2 = Variable(m, name='o2', type=\"free\", description='Variable to take second objective function value')\n",
    "o3 = Variable(m, name='o3', type=\"free\", description='Variable to take third objective function value')\n",
    "o4 = Variable(m, name='o4', type=\"free\", description='Variable to take fourth objective function value')\n",
    "\n",
    "o_all = Variable(m, name='o_all', type=\"free\", description='Variable to take the total objective function value')"
   ]
  },
  {
   "attachments": {},
   "cell_type": "markdown",
   "metadata": {},
   "source": [
    "### EQUATIONS"
   ]
  },
  {
   "cell_type": "code",
   "execution_count": 439,
   "metadata": {},
   "outputs": [],
   "source": [
    "# Define the model equations\n",
    "obj1 = Equation(m, name='obj1', description='Maximize the total products value')\n",
    "obj2 = Equation(m, name='obj2', description='Minimize the total distance')\n",
    "obj3 = Equation(m, name='obj3', description='Maximize the total products quality')\n",
    "obj4 = Equation(m, name='obj4', description='Maximize the total profit')\n",
    "\n",
    "weighted_obj = Equation(m, name='weighted_obj', description='Weighted objective function')\n",
    "\n",
    "num_warehouses = Equation(m, name='num_warehouses', description='Number of warehouses built')\n",
    "\n",
    "store_if_built = Equation(m, name='store_if_built', domain=[i, j], description='Amount of product i stored at city j if a warehouse is built')\n",
    "\n",
    "budget = Equation(m, name='budget', description='Budget constraint')\n",
    "\n",
    "capacity = Equation(m, name='capacity', domain=j, description='Capacity constraint')\n"
   ]
  },
  {
   "cell_type": "code",
   "execution_count": 440,
   "metadata": {},
   "outputs": [],
   "source": [
    "# Maximize the total products value\n",
    "obj1[...] = o1 == Sum([i, j], w[i] * y[i, j])\n",
    "\n",
    "# Minimize the total distance\n",
    "obj2[...] = o2 == Sum([j, k], d[j, k] * x[j])\n",
    "\n",
    "# Maximize the total products quality\n",
    "obj3[...] = o3 == Sum([i, j], (q[i, j] + p_cap[i, j]) * x[j])\n",
    "\n",
    "# Maximize the total profit\n",
    "obj4[...] = o4 == Sum([i, j, k], (revenue[i] - transport_cost[j, k]) * y[i, j]) - Sum(j, wc[j] * x[j])\n",
    "\n",
    "# Weighted objective function\n",
    "weighted_obj[...] = o_all == (1*o1) - (10000*o2) + (100000*o3) + (10*o4)\n",
    "\n",
    "\n",
    "# CONSTRAINTS\n",
    "\n",
    "# Number of warehouses built\n",
    "num_warehouses[...] = Sum(j, x[j]) <= wn\n",
    "\n",
    "# Amount of product i stored at city j if a warehouse is built\n",
    "store_if_built[i, j] = y[i, j] <= x[j] * 1000000000000\n",
    "\n",
    "# Budget constraint\n",
    "budget[...] = Sum(j, x[j] * wc[j]) <= m_budget *1000\n",
    "\n",
    "# Capacity constraint\n",
    "capacity[j] = Sum(i, y[i, j]*v[i]) <= m_cap"
   ]
  },
  {
   "cell_type": "code",
   "execution_count": 441,
   "metadata": {},
   "outputs": [
    {
     "data": {
      "text/html": [
       "<div>\n",
       "<style scoped>\n",
       "    .dataframe tbody tr th:only-of-type {\n",
       "        vertical-align: middle;\n",
       "    }\n",
       "\n",
       "    .dataframe tbody tr th {\n",
       "        vertical-align: top;\n",
       "    }\n",
       "\n",
       "    .dataframe thead th {\n",
       "        text-align: right;\n",
       "    }\n",
       "</style>\n",
       "<table border=\"1\" class=\"dataframe\">\n",
       "  <thead>\n",
       "    <tr style=\"text-align: right;\">\n",
       "      <th></th>\n",
       "      <th>Solver Status</th>\n",
       "      <th>Model Status</th>\n",
       "      <th>Objective</th>\n",
       "      <th>Num of Equations</th>\n",
       "      <th>Num of Variables</th>\n",
       "      <th>Model Type</th>\n",
       "      <th>Solver</th>\n",
       "      <th>Solver Time</th>\n",
       "    </tr>\n",
       "  </thead>\n",
       "  <tbody>\n",
       "    <tr>\n",
       "      <th>0</th>\n",
       "      <td>Normal</td>\n",
       "      <td>OptimalGlobal</td>\n",
       "      <td>366956999.98433</td>\n",
       "      <td>487</td>\n",
       "      <td>485</td>\n",
       "      <td>MIP</td>\n",
       "      <td>CPLEX</td>\n",
       "      <td>0.047</td>\n",
       "    </tr>\n",
       "  </tbody>\n",
       "</table>\n",
       "</div>"
      ],
      "text/plain": [
       "  Solver Status   Model Status        Objective Num of Equations  \\\n",
       "0        Normal  OptimalGlobal  366956999.98433              487   \n",
       "\n",
       "  Num of Variables Model Type Solver Solver Time  \n",
       "0              485        MIP  CPLEX       0.047  "
      ]
     },
     "execution_count": 441,
     "metadata": {},
     "output_type": "execute_result"
    }
   ],
   "source": [
    "scm = Model(m, name=\"scm\", equations=m.getEquations(), problem=\"MIP\", sense=\"MAX\", objective=o_all)\n",
    "scm.solve()"
   ]
  },
  {
   "cell_type": "code",
   "execution_count": 442,
   "metadata": {},
   "outputs": [
    {
     "data": {
      "text/plain": [
       "(3208350.4166666665,\n",
       " 5670.0,\n",
       " 2006.427783812222,\n",
       " 21980587.118644066,\n",
       " 366956999.9843296,\n",
       " array([1.39477877e+06, 2.02133500e+04, 6.09897920e+05, 2.67317650e+05,\n",
       "        8.77007300e+04, 2.94224765e+06, 1.87330480e+05, 4.41052790e+05,\n",
       "        7.21674700e+04, 3.51234100e+04, 8.81298600e+04, 7.70004100e+04,\n",
       "        1.42720530e+05, 2.43724000e+03, 2.94224765e+06]))"
      ]
     },
     "execution_count": 442,
     "metadata": {},
     "output_type": "execute_result"
    }
   ],
   "source": [
    "o1.toValue(), o2.toValue(), o3.toValue(), o4.toValue(), o_all.toValue(), param_w"
   ]
  },
  {
   "cell_type": "code",
   "execution_count": 443,
   "metadata": {},
   "outputs": [
    {
     "data": {
      "text/html": [
       "<div>\n",
       "<style scoped>\n",
       "    .dataframe tbody tr th:only-of-type {\n",
       "        vertical-align: middle;\n",
       "    }\n",
       "\n",
       "    .dataframe tbody tr th {\n",
       "        vertical-align: top;\n",
       "    }\n",
       "\n",
       "    .dataframe thead th {\n",
       "        text-align: right;\n",
       "    }\n",
       "</style>\n",
       "<table border=\"1\" class=\"dataframe\">\n",
       "  <thead>\n",
       "    <tr style=\"text-align: right;\">\n",
       "      <th></th>\n",
       "      <th>istanbul</th>\n",
       "    </tr>\n",
       "  </thead>\n",
       "  <tbody>\n",
       "    <tr>\n",
       "      <th>T-shirts</th>\n",
       "      <td>0.000000</td>\n",
       "    </tr>\n",
       "    <tr>\n",
       "      <th>BathTowel</th>\n",
       "      <td>0.000000</td>\n",
       "    </tr>\n",
       "    <tr>\n",
       "      <th>Table&amp;Chair</th>\n",
       "      <td>0.000000</td>\n",
       "    </tr>\n",
       "    <tr>\n",
       "      <th>GardenFur.</th>\n",
       "      <td>0.000000</td>\n",
       "    </tr>\n",
       "    <tr>\n",
       "      <th>Beds</th>\n",
       "      <td>0.000000</td>\n",
       "    </tr>\n",
       "    <tr>\n",
       "      <th>Carpets</th>\n",
       "      <td>0.000000</td>\n",
       "    </tr>\n",
       "    <tr>\n",
       "      <th>SteelDoor</th>\n",
       "      <td>0.000000</td>\n",
       "    </tr>\n",
       "    <tr>\n",
       "      <th>Detergant</th>\n",
       "      <td>0.000000</td>\n",
       "    </tr>\n",
       "    <tr>\n",
       "      <th>Bicycle</th>\n",
       "      <td>0.000000</td>\n",
       "    </tr>\n",
       "    <tr>\n",
       "      <th>OutdoorCloths</th>\n",
       "      <td>0.000000</td>\n",
       "    </tr>\n",
       "    <tr>\n",
       "      <th>Pillows</th>\n",
       "      <td>0.000000</td>\n",
       "    </tr>\n",
       "    <tr>\n",
       "      <th>Catlitter</th>\n",
       "      <td>41.666667</td>\n",
       "    </tr>\n",
       "    <tr>\n",
       "      <th>InteriorDoor</th>\n",
       "      <td>0.000000</td>\n",
       "    </tr>\n",
       "    <tr>\n",
       "      <th>Bedlinen</th>\n",
       "      <td>0.000000</td>\n",
       "    </tr>\n",
       "    <tr>\n",
       "      <th>PrayerRug</th>\n",
       "      <td>0.000000</td>\n",
       "    </tr>\n",
       "  </tbody>\n",
       "</table>\n",
       "</div>"
      ],
      "text/plain": [
       "                istanbul\n",
       "T-shirts        0.000000\n",
       "BathTowel       0.000000\n",
       "Table&Chair     0.000000\n",
       "GardenFur.      0.000000\n",
       "Beds            0.000000\n",
       "Carpets         0.000000\n",
       "SteelDoor       0.000000\n",
       "Detergant       0.000000\n",
       "Bicycle         0.000000\n",
       "OutdoorCloths   0.000000\n",
       "Pillows         0.000000\n",
       "Catlitter      41.666667\n",
       "InteriorDoor    0.000000\n",
       "Bedlinen        0.000000\n",
       "PrayerRug       0.000000"
      ]
     },
     "execution_count": 443,
     "metadata": {},
     "output_type": "execute_result"
    }
   ],
   "source": [
    "warehouses = x.records.j[x.records.level == 1].tolist()\n",
    "y.pivot()[warehouses]\n"
   ]
  }
 ],
 "metadata": {
  "kernelspec": {
   "display_name": "uni2",
   "language": "python",
   "name": "python3"
  },
  "language_info": {
   "codemirror_mode": {
    "name": "ipython",
    "version": 3
   },
   "file_extension": ".py",
   "mimetype": "text/x-python",
   "name": "python",
   "nbconvert_exporter": "python",
   "pygments_lexer": "ipython3",
   "version": "3.11.5"
  },
  "orig_nbformat": 4,
  "vscode": {
   "interpreter": {
    "hash": "896abd35c1ec3da0fbf192e8bc4f761e28b2321e39758341c6892986d6cb4321"
   }
  }
 },
 "nbformat": 4,
 "nbformat_minor": 2
}
