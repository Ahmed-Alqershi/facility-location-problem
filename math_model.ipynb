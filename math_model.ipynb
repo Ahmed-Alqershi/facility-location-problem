{
 "cells": [
  {
   "cell_type": "code",
   "execution_count": 10,
   "metadata": {},
   "outputs": [],
   "source": [
    "from gamspy import Container\n",
    "from gamspy import Model\n",
    "from gamspy import Set\n",
    "from gamspy import Parameter\n",
    "from gamspy import Variable\n",
    "from gamspy import Equation"
   ]
  },
  {
   "attachments": {},
   "cell_type": "markdown",
   "metadata": {},
   "source": [
    "## DATA DEFINITION"
   ]
  },
  {
   "cell_type": "code",
   "execution_count": null,
   "metadata": {},
   "outputs": [],
   "source": [
    "\n",
    "\n"
   ]
  },
  {
   "attachments": {},
   "cell_type": "markdown",
   "metadata": {},
   "source": [
    "## BUILD MODELS"
   ]
  },
  {
   "cell_type": "code",
   "execution_count": 11,
   "metadata": {},
   "outputs": [],
   "source": [
    "# Create a container\n",
    "m = Container()\n"
   ]
  },
  {
   "attachments": {},
   "cell_type": "markdown",
   "metadata": {},
   "source": [
    "### SETS"
   ]
  },
  {
   "cell_type": "code",
   "execution_count": 12,
   "metadata": {},
   "outputs": [],
   "source": [
    "# Create the model sets\n",
    "i = Set(m, name='i', description='Products considered')\n",
    "j = Set(m, name='j', description='Potential warehouse locations')\n",
    "k = Set(m, name='k', description='Exporting Hubs')\n"
   ]
  },
  {
   "attachments": {},
   "cell_type": "markdown",
   "metadata": {},
   "source": [
    "### PARAMETERS"
   ]
  },
  {
   "cell_type": "code",
   "execution_count": 13,
   "metadata": {},
   "outputs": [],
   "source": [
    "# Create the model parameters\n",
    "w = Parameter(m, name='w', domain=i, description='Weights for product i')\n",
    "d = Parameter(m, name='d', domain=[j, k], description='Distance from warehouse j to exporting hub k')\n",
    "l = Parameter(m, name='l', domain=j, description='Living expenses at city j')\n",
    "q = Parameter(m, name='q', domain=[i, j], description='Quality of product i in city j')\n",
    "v = Parameter(m, name='v', domain=i, description='Volume of product i')\n",
    "av = Parameter(m, name='av', domain=j, description='Available labor at city j')\n",
    "cap = Parameter(m, name='cap', domain=[i, j], description='Production Capacity of product i in city j')\n"
   ]
  },
  {
   "attachments": {},
   "cell_type": "markdown",
   "metadata": {},
   "source": [
    "### VARIABLES"
   ]
  },
  {
   "cell_type": "code",
   "execution_count": 14,
   "metadata": {},
   "outputs": [],
   "source": [
    "# Create the model variables\n",
    "x = Variable(m, name='x', domain=j, type=\"binary\", description='Where to build a warehouse in city j')\n",
    "y = Variable(m, name='y', domain=[i, j], type=\"positive\", description='Amount of product i stocked at city j')\n"
   ]
  },
  {
   "cell_type": "code",
   "execution_count": null,
   "metadata": {},
   "outputs": [],
   "source": []
  }
 ],
 "metadata": {
  "kernelspec": {
   "display_name": "uni2",
   "language": "python",
   "name": "python3"
  },
  "language_info": {
   "codemirror_mode": {
    "name": "ipython",
    "version": 3
   },
   "file_extension": ".py",
   "mimetype": "text/x-python",
   "name": "python",
   "nbconvert_exporter": "python",
   "pygments_lexer": "ipython3",
   "version": "3.11.5 | packaged by Anaconda, Inc. | (main, Sep 11 2023, 13:26:23) [MSC v.1916 64 bit (AMD64)]"
  },
  "orig_nbformat": 4,
  "vscode": {
   "interpreter": {
    "hash": "896abd35c1ec3da0fbf192e8bc4f761e28b2321e39758341c6892986d6cb4321"
   }
  }
 },
 "nbformat": 4,
 "nbformat_minor": 2
}
